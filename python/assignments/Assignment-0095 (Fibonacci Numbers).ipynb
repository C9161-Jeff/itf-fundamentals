{
  "nbformat": 4,
  "nbformat_minor": 0,
  "metadata": {
    "colab": {
      "name": "Untitled12.ipynb",
      "provenance": []
    },
    "kernelspec": {
      "name": "python3",
      "display_name": "Python 3"
    },
    "language_info": {
      "name": "python"
    }
  },
  "cells": [
    {
      "cell_type": "markdown",
      "metadata": {
        "id": "ETpJfKOaM9gG"
      },
      "source": [
        "# ***Assignment-009/5 (Fibonacci Numbers) is due***"
      ]
    },
    {
      "cell_type": "code",
      "metadata": {
        "colab": {
          "base_uri": "https://localhost:8080/"
        },
        "id": "M4y9WrIxM0mm",
        "outputId": "c9ed1ee3-93a4-443a-a7cb-c6d65bd088c7"
      },
      "source": [
        "def fibanocci(n):\n",
        "    dizi = [1, 1]\n",
        "    for i in range(2, n+1):\n",
        "        dizi.append(dizi[i-2] + dizi[i-1])\n",
        "    return dizi\n",
        "print(fibanocci(9))"
      ],
      "execution_count": 1,
      "outputs": [
        {
          "output_type": "stream",
          "text": [
            "[1, 1, 2, 3, 5, 8, 13, 21, 34, 55]\n"
          ],
          "name": "stdout"
        }
      ]
    }
  ]
}