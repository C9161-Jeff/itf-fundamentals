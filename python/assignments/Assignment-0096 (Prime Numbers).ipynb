{
  "nbformat": 4,
  "nbformat_minor": 0,
  "metadata": {
    "colab": {
      "name": "Untitled11.ipynb",
      "provenance": [],
      "collapsed_sections": []
    },
    "kernelspec": {
      "name": "python3",
      "display_name": "Python 3"
    },
    "language_info": {
      "name": "python"
    }
  },
  "cells": [
    {
      "cell_type": "code",
      "metadata": {
        "id": "Kug_5HC5ygfl"
      },
      "source": [
        ""
      ],
      "execution_count": null,
      "outputs": []
    },
    {
      "cell_type": "markdown",
      "metadata": {
        "id": "Suy6JG-0yh01"
      },
      "source": [
        "\n",
        "# *** Assignment-009/6 (Prime Numbers) ***"
      ]
    },
    {
      "cell_type": "code",
      "metadata": {
        "id": "_IVVmAADyqPZ"
      },
      "source": [
        "\n",
        "n = int(input(\" Bir pozitif sayı girin. Asal sayı olup olmadığını kontrol edelım..\"))\n",
        "count = 0\n",
        "\n",
        "for i in range(1, n+1):\n",
        "    if n % i == 0 :\n",
        "        count+=1\n",
        "if (n ==0) or (n==1)or(count>= 3):\n",
        "    print(n, \"Maalesef Asal sayı değildir.\")\n",
        "else :\n",
        "    print(n, \"Asal sayıdır.\")"
      ],
      "execution_count": 5,
      "outputs": []
    },
    {
      "cell_type": "code",
      "metadata": {
        "id": "-EbrhZyf2jwu"
      },
      "source": [
        "\n"
      ],
      "execution_count": 7,
      "outputs": []
    }
  ]
}